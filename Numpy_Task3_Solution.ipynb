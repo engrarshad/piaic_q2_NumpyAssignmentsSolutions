{
 "cells": [
  {
   "cell_type": "markdown",
   "metadata": {},
   "source": [
    "# Election Results\n",
    "\n",
    "You’re part of an impartial research group that conducts phone surveys prior to local elections. During this election season, the group conducted a survey to determine how many people would vote for I_Khan vs. S_Sharif in the presidential election.\n",
    "\n",
    "Now that the election has occurred, your group wants to compare the survey responses to the actual results.\n",
    "\n",
    "Was your survey a good indicator? Let’s find out!"
   ]
  },
  {
   "cell_type": "markdown",
   "metadata": {},
   "source": [
    "# PROJECT STEPS"
   ]
  },
  {
   "cell_type": "markdown",
   "metadata": {},
   "source": [
    "1.First, import numpy and matplotlib."
   ]
  },
  {
   "cell_type": "code",
   "execution_count": null,
   "metadata": {},
   "outputs": [],
   "source": [
    "import numpy as np\n",
    "import matplotlib.pyplot as plt"
   ]
  },
  {
   "cell_type": "markdown",
   "metadata": {},
   "source": [
    "2.There is a list given of the different survey responses.\n",
    "\n",
    "Calculate the number of people who answered ‘I_Khan’ and save the answer to the variable total_Khan.\n",
    "\n",
    "Print the variable to the terminal to see its value."
   ]
  },
  {
   "cell_type": "code",
   "execution_count": 2,
   "metadata": {},
   "outputs": [
    {
     "name": "stdout",
     "output_type": "stream",
     "text": [
      "33\n"
     ]
    }
   ],
   "source": [
    "survey_responses = ['Ceballos', 'Kerrigan', 'Ceballos', 'Ceballos', 'Ceballos','Kerrigan',\n",
    "                    'Kerrigan', 'Ceballos', 'Ceballos', 'Ceballos', 'Kerrigan', 'Kerrigan',\n",
    "                    'Ceballos', 'Ceballos', 'Kerrigan', 'Kerrigan','Ceballos', 'Ceballos', \n",
    "                    'Kerrigan', 'Kerrigan', 'Kerrigan', 'Kerrigan', 'Kerrigan', 'Kerrigan', \n",
    "                    'Ceballos', 'Ceballos', 'Ceballos', 'Ceballos', 'Ceballos', 'Ceballos',\n",
    "                    'Kerrigan', 'Kerrigan', 'Ceballos', 'Ceballos', 'Ceballos', 'Kerrigan',\n",
    "                    'Kerrigan', 'Ceballos', 'Ceballos', 'Kerrigan', 'Kerrigan', 'Ceballos', \n",
    "                    'Ceballos', 'Kerrigan', 'Kerrigan', 'Kerrigan', 'Kerrigan', 'Kerrigan',\n",
    "                    'Kerrigan', 'Ceballos','Kerrigan', 'Kerrigan', 'Ceballos', 'Ceballos', \n",
    "                    'Ceballos', 'Kerrigan', 'Kerrigan', 'Ceballos', 'Ceballos', 'Kerrigan', \n",
    "                    'Kerrigan', 'Ceballos', 'Ceballos', 'Kerrigan', 'Kerrigan', 'Kerrigan', \n",
    "                    'Kerrigan', 'Kerrigan', 'Kerrigan', 'Ceballos']\n",
    "\n",
    "# Suppose Ceballos == I_Khan then \n",
    "total_I_Khan = sum([1 for n in survey_responses if n == 'Ceballos'])\n",
    "print(total_I_Khan)"
   ]
  },
  {
   "cell_type": "markdown",
   "metadata": {},
   "source": [
    "3.Calculate the percentage of people in the survey who voted for I_Khan and save it to the variable percentage_I_Khan.\n",
    "\n",
    "Print the variable to the terminal to see its value."
   ]
  },
  {
   "cell_type": "code",
   "execution_count": 3,
   "metadata": {},
   "outputs": [
    {
     "name": "stdout",
     "output_type": "stream",
     "text": [
      "47.142857142857146\n"
     ]
    }
   ],
   "source": [
    "percentage_I_Khan = 100 * total_I_Khan/len(survey_responses)\n",
    "print(percentage_I_Khan)"
   ]
  },
  {
   "cell_type": "markdown",
   "metadata": {},
   "source": [
    "4.In the real election, 54% of the 10,000 town population voted for I_Khan. Your supervisors are concerned because this is a very different outcome than what the poll predicted. They want you to determine if there is something wrong with the poll or if given the sample size, it was an entirely reasonable result.\n",
    "\n",
    "Generate a binomial distribution that takes the number of total survey responses, the actual success rate, and the size of the town’s population as its parameters. Then divide the distribution by the number of survey responses. Save your calculation to the variable possible_surveys.\n",
    "\n",
    "######### hint###########\n",
    "possible_surveys = \n",
    "np.random.binomial(total of survey responses, the actual success rate,and the size of the town’s population ) "
   ]
  },
  {
   "cell_type": "code",
   "execution_count": 4,
   "metadata": {},
   "outputs": [
    {
     "name": "stdout",
     "output_type": "stream",
     "text": [
      "70\n",
      "[0.48571429 0.47142857 0.68571429 ... 0.48571429 0.51428571 0.55714286]\n"
     ]
    }
   ],
   "source": [
    "survey_responses = len(survey_responses)\n",
    "print(survey_responses)\n",
    "possible_surveys = np.random.binomial(70, 0.54, 10000) / 70.\n",
    "print(possible_surveys)"
   ]
  },
  {
   "cell_type": "markdown",
   "metadata": {},
   "source": [
    "\n",
    "      #######Optional########\n",
    "5.By using matplotlib Plot a histogram of possible_surveys with a range of 0-1 and 20 bins.\n"
   ]
  },
  {
   "cell_type": "code",
   "execution_count": 5,
   "metadata": {},
   "outputs": [
    {
     "data": {
      "image/png": "[encoded data removed]",
      "text/plain": [
       "<Figure size 432x288 with 1 Axes>"
      ]
     },
     "metadata": {
      "needs_background": "light"
     },
     "output_type": "display_data"
    }
   ],
   "source": [
    "plt.hist(possible_surveys, range=(0, 1), bins=20)\n",
    "plt.title('Binomial Election Results')\n",
    "plt.xlabel('Voter Percentage')\n",
    "plt.ylabel('Frequency')\n",
    "plt.show()"
   ]
  },
  {
   "cell_type": "markdown",
   "metadata": {},
   "source": [
    "6.As we saw, 47% of people we surveyed said they would vote for I_Khan, but 54% of people voted for I_Khan in the actual election.\n",
    "\n",
    "Calculate the percentage of surveys that could have an outcome of I_Khan receiving less than 50% of the vote and save it to the variable I_Khan_loss_surveys.\n",
    "\n",
    "Print the variable to the terminal."
   ]
  },
  {
   "cell_type": "code",
   "execution_count": 6,
   "metadata": {},
   "outputs": [
    {
     "name": "stdout",
     "output_type": "stream",
     "text": [
      "  I_Khan_loss_surveys =  0.2125\n",
      "Percentage of I_Khan_loss_surveys =  21.25 %\n"
     ]
    }
   ],
   "source": [
    "I_Khan_loss_surveys = np.mean(possible_surveys < 0.5)\n",
    "print(\"  I_Khan_loss_surveys = \", I_Khan_loss_surveys)\n",
    "print(\"Percentage of I_Khan_loss_surveys = \",I_Khan_loss_surveys * 100, \"%\")"
   ]
  },
  {
   "cell_type": "markdown",
   "metadata": {},
   "source": [
    "7.With this current poll, about 20% of the time a survey output would predict S_Sharif winning, even if I_Khan won the actual election.\n",
    "\n",
    "Your co-worker points out that your poll would be more accurate if it had more responders.\n",
    "\n",
    "Generate another binomial distribution, but this time, see what would happen if you had instead surveyed 7,000 people. Divide the distribution by the size of the survey and save your findings to large_survey.\n"
   ]
  },
  {
   "cell_type": "code",
   "execution_count": 7,
   "metadata": {},
   "outputs": [
    {
     "name": "stdout",
     "output_type": "stream",
     "text": [
      "[0.53585714 0.53642857 0.54428571 ... 0.54442857 0.53371429 0.54214286]\n",
      " I_Khan_loss using larger survey =  0.0\n",
      "Percentage of I_Khan_loss using larger survey =  0.0 %\n"
     ]
    }
   ],
   "source": [
    "large_survey = np.random.binomial(7000, 0.54, 10000) / 7000.\n",
    "print(large_survey)\n",
    "I_Khan_loss_new = np.mean(large_survey < 0.5)\n",
    "print(\" I_Khan_loss using larger survey = \", I_Khan_loss_new)\n",
    "print(\"Percentage of I_Khan_loss using larger survey = \", I_Khan_loss_new * 100, \"%\")\n"
   ]
  },
  {
   "cell_type": "markdown",
   "metadata": {},
   "source": [
    "8.Now, recalculate the percentage of surveys that would have an outcome of I_Khan losing and save it to the variable I_Khan_loss_new, and print the value to the terminal.\n",
    "\n",
    "What do we notice about this new value?\n",
    "\n",
    "What advice would you give to your supervisors about predicting results from surveys?\n"
   ]
  },
  {
   "cell_type": "code",
   "execution_count": null,
   "metadata": {},
   "outputs": [],
   "source": [
    "#  With larger data surveys, the calculations show 0% chances of loosing\n",
    "# The advice would be to have sample size of data larger size before concluding the results "
   ]
  },
  {
   "cell_type": "code",
   "execution_count": 8,
   "metadata": {},
   "outputs": [
    {
     "name": "stdout",
     "output_type": "stream",
     "text": [
      "33\n",
      "47.142857142857146\n",
      "70\n",
      "[0.52857143 0.47142857 0.5        ... 0.51428571 0.61428571 0.58571429]\n"
     ]
    },
    {
     "data": {
      "image/png": "[encoded data removed]",
      "text/plain": [
       "<Figure size 432x288 with 1 Axes>"
      ]
     },
     "metadata": {
      "needs_background": "light"
     },
     "output_type": "display_data"
    },
    {
     "name": "stdout",
     "output_type": "stream",
     "text": [
      " I_Khan_loss_surveys =  0.2078\n",
      "Percentage of I_Khan_loss_surveys =  20.78 %\n",
      "[0.53714286 0.54642857 0.54157143 ... 0.54314286 0.54514286 0.535     ]\n",
      " I_Khan_loss using larger survey =  0.0\n",
      "Percentage of I_Khan_loss using larger survey =  0.0 %\n"
     ]
    }
   ],
   "source": [
    "# Complete project \n",
    "import numpy as np\n",
    "from matplotlib import pyplot as plt\n",
    "\n",
    "survey_responses = ['Ceballos', 'Kerrigan', 'Ceballos', 'Ceballos', 'Ceballos','Kerrigan', 'Kerrigan', 'Ceballos', 'Ceballos', 'Ceballos', \n",
    "'Kerrigan', 'Kerrigan', 'Ceballos', 'Ceballos', 'Kerrigan', 'Kerrigan', 'Ceballos', 'Ceballos', 'Kerrigan', 'Kerrigan', 'Kerrigan', 'Kerrigan', 'Kerrigan', 'Kerrigan', 'Ceballos', 'Ceballos', 'Ceballos', 'Ceballos', 'Ceballos', 'Ceballos',\n",
    "'Kerrigan', 'Kerrigan', 'Ceballos', 'Ceballos', 'Ceballos', 'Kerrigan', 'Kerrigan', 'Ceballos', 'Ceballos', 'Kerrigan', 'Kerrigan', 'Ceballos', 'Ceballos', 'Kerrigan', 'Kerrigan', 'Kerrigan', 'Kerrigan', 'Kerrigan', 'Kerrigan', 'Ceballos',\n",
    "'Kerrigan', 'Kerrigan', 'Ceballos', 'Ceballos', 'Ceballos', 'Kerrigan', 'Kerrigan', 'Ceballos', 'Ceballos', 'Kerrigan', 'Kerrigan', 'Ceballos', 'Ceballos', 'Kerrigan', 'Kerrigan', 'Kerrigan', 'Kerrigan', 'Kerrigan', 'Kerrigan', 'Ceballos']\n",
    "# Suppose Ceballos == I_Khan then \n",
    "total_I_Khan = sum([1 for n in survey_responses if n == 'Ceballos'])\n",
    "print(total_I_Khan)\n",
    "percentage_I_Khan = 100 * total_I_Khan/len(survey_responses)\n",
    "print(percentage_I_Khan)\n",
    "survey_responses = len(survey_responses)\n",
    "print(survey_responses)\n",
    "possible_surveys = np.random.binomial(70, 0.54, 10000) / 70.\n",
    "print(possible_surveys)\n",
    "plt.hist(possible_surveys, range=(0, 1), bins=20)\n",
    "plt.title('Binomial Election Results')\n",
    "plt.xlabel('Voter Percentage')\n",
    "plt.ylabel('Frequency')\n",
    "plt.show()\n",
    "\n",
    "I_Khan_loss_surveys = np.mean(possible_surveys < 0.5)\n",
    "print(\" I_Khan_loss_surveys = \", I_Khan_loss_surveys)\n",
    "print(\"Percentage of I_Khan_loss_surveys = \",I_Khan_loss_surveys * 100, \"%\")\n",
    "large_survey = np.random.binomial(7000, 0.54, 10000) / 7000.\n",
    "print(large_survey)\n",
    "I_Khan_loss_new = np.mean(large_survey < 0.5)\n",
    "print(\" I_Khan_loss using larger survey = \", I_Khan_loss_new)\n",
    "print(\"Percentage of I_Khan_loss using larger survey = \", I_Khan_loss_new * 100, \"%\")\n",
    "#With larger data surveys, the calculations show 0% chances of loosing\n",
    "#The advice would be to have sample size of data larger size before concluding the results "
   ]
  },
  {
   "cell_type": "code",
   "execution_count": null,
   "metadata": {},
   "outputs": [],
   "source": []
  },
  {
   "cell_type": "code",
   "execution_count": 5,
   "metadata": {},
   "outputs": [
    {
     "data": {
      "text/plain": [
       "0"
      ]
     },
     "execution_count": 5,
     "metadata": {},
     "output_type": "execute_result"
    }
   ],
   "source": [
    "import numpy as np\n",
    "import matplotlib.pyplot as plt\n",
    "import math\n",
    "\n",
    "def get_opinion_from_random_person():\n",
    "    # Usually this probabiliy is not known. Setting it here for simulation purposes.\n",
    "    probability_of_alice_win = 0.53\n",
    "    return np.random.binomial(\n",
    "        n = 1,\n",
    "        p = probability_of_alice_win)\n",
    "\n",
    "get_opinion_from_random_person()"
   ]
  },
  {
   "cell_type": "code",
   "execution_count": 7,
   "metadata": {},
   "outputs": [
    {
     "name": "stdout",
     "output_type": "stream",
     "text": [
      "[1, 1, 0, 1, 0, 1, 0, 1, 0, 1]\n"
     ]
    }
   ],
   "source": [
    "def get_sample_from_distribution(n):\n",
    "    \"\"\"\n",
    "    Creates an array of size n.\n",
    "    Each value will be 1 if some person would vote on I_Khan and\n",
    "    0 if he would vote on S.Sharif.\n",
    "    \"\"\"\n",
    "    sample_opinions = []\n",
    "    for i in range(n):\n",
    "        sample_opinions.append(get_opinion_from_random_person())\n",
    "    \n",
    "    return sample_opinions\n",
    "\n",
    "example = get_sample_from_distribution(10)\n",
    "print(example)"
   ]
  },
  {
   "cell_type": "code",
   "execution_count": 8,
   "metadata": {},
   "outputs": [
    {
     "name": "stdout",
     "output_type": "stream",
     "text": [
      "[0.61, 0.44, 0.53, 0.47, 0.56]\n"
     ]
    }
   ],
   "source": [
    "def get_n_samples_from_distribution(samples_number, sample_size):\n",
    "    \"\"\"\n",
    "    Get multiple samples from our target 'unknown distribution'.\n",
    "    \"\"\"\n",
    "    people_per_day = [sample_size] * samples_number\n",
    "    week_samples = list(map(get_sample_from_distribution, people_per_day))\n",
    "    return week_samples\n",
    "\n",
    "def get_n_sample_means_from_distribution(samples_number, sample_size):\n",
    "    samples = get_n_samples_from_distribution(\n",
    "        samples_number = samples_number,\n",
    "        sample_size = sample_size)\n",
    "\n",
    "    return list(map(np.mean, samples))\n",
    "\n",
    "sample_means = get_n_sample_means_from_distribution(5, 100)\n",
    "print(sample_means)"
   ]
  },
  {
   "cell_type": "code",
   "execution_count": 12,
   "metadata": {},
   "outputs": [
    {
     "data": {
      "image/png": "[encoded data removed]",
      "text/plain": [
       "<Figure size 864x576 with 6 Axes>"
      ]
     },
     "metadata": {
      "needs_background": "light"
     },
     "output_type": "display_data"
    }
   ],
   "source": [
    "import numpy as np\n",
    "import matplotlib.pyplot as plt\n",
    "\n",
    "fig, axes = plt.subplots(2,3, figsize = (12, 8))\n",
    "fig.subplots_adjust(hspace=0.4, wspace=0.3)\n",
    "axes = axes.ravel()\n",
    "\n",
    "days = [5, 50, 500, 1000, 10000, 100000]\n",
    "for i in range(len(days)):\n",
    "    sample_means = get_n_sample_means_from_distribution(\n",
    "        samples_number = days[i],\n",
    "        sample_size = 100)    \n",
    "    axes[i].hist(sample_means, bins=30)\n",
    "    axes[i].set_title(\"{0} days\".format(days[i]))"
   ]
  },
  {
   "cell_type": "code",
   "execution_count": null,
   "metadata": {},
   "outputs": [],
   "source": []
  }
 ],
 "metadata": {
  "kernelspec": {
   "display_name": "Python 3",
   "language": "python",
   "name": "python3"
  },
  "language_info": {
   "codemirror_mode": {
    "name": "ipython",
    "version": 3
   },
   "file_extension": ".py",
   "mimetype": "text/x-python",
   "name": "python",
   "nbconvert_exporter": "python",
   "pygments_lexer": "ipython3",
   "version": "3.7.6"
  }
 },
 "nbformat": 4,
 "nbformat_minor": 2
}
